{
 "cells": [
  {
   "cell_type": "markdown",
   "metadata": {},
   "source": [
    "## Is the corrolation distance biased?\n",
    "In their notes [Collaborative Filtering Recommender Systems](http://herbrete.vvv.enseirb-matmeca.fr/IR/CF_Recsys_Survey.pdf) state that \"Pearson correlation suffers from computing high similarity\n",
    "between users with few ratings in common\". This is just a little experiment, trying to verfy their claim using simulation. So far, the result does not agree with that statement. \n",
    "We construct a random rating matrix, with ratings between 0 to 5, where 0 dentes no rating. "
   ]
  },
  {
   "cell_type": "code",
   "execution_count": 1,
   "metadata": {
    "collapsed": true
   },
   "outputs": [],
   "source": [
    "import numpy as np"
   ]
  },
  {
   "cell_type": "code",
   "execution_count": 2,
   "metadata": {
    "collapsed": false
   },
   "outputs": [],
   "source": [
    "item_cnt=50 #how many items?\n",
    "usr_cnt=10000 #homw many users?\n",
    "R=np.random.randint(0,6,size=(usr_cnt,item_cnt))"
   ]
  },
  {
   "cell_type": "code",
   "execution_count": 3,
   "metadata": {
    "collapsed": false
   },
   "outputs": [
    {
     "name": "stdout",
     "output_type": "stream",
     "text": [
      "(10000, 50)\n"
     ]
    },
    {
     "name": "stderr",
     "output_type": "stream",
     "text": [
      "/Users/pejman/anaconda/lib/python3.5/site-packages/ipykernel/__main__.py:1: VisibleDeprecationWarning: using a non-integer number instead of an integer will result in an error in the future\n",
      "  if __name__ == '__main__':\n",
      "/Users/pejman/anaconda/lib/python3.5/site-packages/ipykernel/__main__.py:2: VisibleDeprecationWarning: using a non-integer number instead of an integer will result in an error in the future\n",
      "  from ipykernel import kernelapp as app\n"
     ]
    }
   ],
   "source": [
    "R1=np.random.choice(4, size=(usr_cnt/2,item_cnt), p=[0.8, 0.2/3, 0.2/3, 0.2/3])\n",
    "R2=np.random.choice(4, size=(usr_cnt/2,item_cnt), p=[0.6, .4/3, 0.4/3, 0.4/3])\n",
    "R=np.concatenate((R1, R2), axis=0)\n",
    "print(R.shape)"
   ]
  },
  {
   "cell_type": "code",
   "execution_count": 4,
   "metadata": {
    "collapsed": false
   },
   "outputs": [
    {
     "name": "stdout",
     "output_type": "stream",
     "text": [
      "(10000, 50)\n"
     ]
    }
   ],
   "source": [
    "#removes rows that are entirly 0 (because they cause problem when computing the correlation)\n",
    "for x in -np.sort(-np.arange(R.shape[0])):\n",
    "    if np.sum(R[x,:])==0:\n",
    "        R=np.delete(R,x,0)\n",
    "    #cor=np.delete(np.delete(cor,x,1),x,0)\n",
    "print(R.shape)"
   ]
  },
  {
   "cell_type": "code",
   "execution_count": 5,
   "metadata": {
    "collapsed": false
   },
   "outputs": [
    {
     "data": {
      "text/plain": [
       "array([[2, 1, 0, ..., 0, 0, 0],\n",
       "       [2, 0, 0, ..., 0, 0, 0],\n",
       "       [0, 0, 0, ..., 0, 0, 0],\n",
       "       ..., \n",
       "       [1, 0, 0, ..., 3, 3, 0],\n",
       "       [0, 0, 0, ..., 3, 3, 0],\n",
       "       [0, 0, 1, ..., 0, 0, 0]])"
      ]
     },
     "execution_count": 5,
     "metadata": {},
     "output_type": "execute_result"
    }
   ],
   "source": [
    "R"
   ]
  },
  {
   "cell_type": "code",
   "execution_count": 6,
   "metadata": {
    "collapsed": false
   },
   "outputs": [],
   "source": [
    "def incommon_cnt(i,j):\n",
    "    return(len(np.nonzero(R[i,:]*R[j,:])[0]))"
   ]
  },
  {
   "cell_type": "code",
   "execution_count": 7,
   "metadata": {
    "collapsed": false
   },
   "outputs": [],
   "source": [
    "#i_j pairs the indices of all 2 users\n",
    "#L[i,j] indicates how many items user i and user j have in common and\n",
    "usr_cnt=R.shape[0]-1\n",
    "i_j=list(zip(np.repeat(range(usr_cnt), usr_cnt),np.tile(range(usr_cnt), usr_cnt)))\n",
    "L=np.zeros((usr_cnt,usr_cnt),dtype=np.int)\n",
    "for x in i_j:\n",
    "    L[x[0],x[1]]=incommon_cnt(x[0],x[1])"
   ]
  },
  {
   "cell_type": "code",
   "execution_count": 8,
   "metadata": {
    "collapsed": true
   },
   "outputs": [],
   "source": [
    "#corfnc give correlation if non\n",
    "def corfnc(i,j,rnd=2):\n",
    "    return round(np.corrcoef(R[i,:],R[j,:])[1,0],rnd)"
   ]
  },
  {
   "cell_type": "code",
   "execution_count": 9,
   "metadata": {
    "collapsed": false
   },
   "outputs": [],
   "source": [
    "#cor[i,j] indicates the correlation between their ratings\n",
    "cor=np.zeros((usr_cnt,usr_cnt))\n",
    "for x in i_j:\n",
    "    cor[x[0],x[1]]=corfnc(x[0],x[1])"
   ]
  },
  {
   "cell_type": "code",
   "execution_count": 14,
   "metadata": {
    "collapsed": false
   },
   "outputs": [],
   "source": [
    "from collections import defaultdict as ddict\n",
    "d = ddict(list)\n",
    "for i in range(L.shape[0]):\n",
    "    for j in np.arange(i+1,L.shape[1]):\n",
    "        d[L[i,j]].append((i,j))"
   ]
  },
  {
   "cell_type": "code",
   "execution_count": null,
   "metadata": {
    "collapsed": false
   },
   "outputs": [],
   "source": [
    "a= ddict(list)\n",
    "for k in d.keys():\n",
    "    a[k]=[round(cor[x[0],x[1]],2) for x in d[k]]"
   ]
  },
  {
   "cell_type": "code",
   "execution_count": null,
   "metadata": {
    "collapsed": false,
    "scrolled": true
   },
   "outputs": [],
   "source": [
    "x=a[0]+a[1]+a[2]+a[3]+a[4]\n",
    "y=a[22]+a[23]+a[24]+a[25]+a[26]+a[27]+a[28]+a[29]+a[32]\n",
    "import matplotlib.pyplot as plt\n",
    "plt.hist(x,bins='auto', alpha=0.5, label='x')\n",
    "plt.hist(y,bins='auto',alpha=0.5, label='y')\n",
    "plt.legend(loc='upper right')\n",
    "plt.show()\n"
   ]
  },
  {
   "cell_type": "code",
   "execution_count": null,
   "metadata": {
    "collapsed": true
   },
   "outputs": [],
   "source": []
  }
 ],
 "metadata": {
  "kernelspec": {
   "display_name": "Python [conda root]",
   "language": "python",
   "name": "conda-root-py"
  },
  "language_info": {
   "codemirror_mode": {
    "name": "ipython",
    "version": 3
   },
   "file_extension": ".py",
   "mimetype": "text/x-python",
   "name": "python",
   "nbconvert_exporter": "python",
   "pygments_lexer": "ipython3",
   "version": "3.5.2"
  }
 },
 "nbformat": 4,
 "nbformat_minor": 2
}
