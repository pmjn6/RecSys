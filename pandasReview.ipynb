{
 "cells": [
  {
   "cell_type": "code",
   "execution_count": 1,
   "metadata": {
    "collapsed": true
   },
   "outputs": [],
   "source": [
    "import numpy as np\n",
    "import pandas as pd"
   ]
  },
  {
   "cell_type": "code",
   "execution_count": 2,
   "metadata": {
    "collapsed": true
   },
   "outputs": [],
   "source": [
    "options=5\n",
    "items=5\n",
    "types=2\n",
    "ppl_cnt=10"
   ]
  },
  {
   "cell_type": "code",
   "execution_count": 3,
   "metadata": {
    "collapsed": false
   },
   "outputs": [],
   "source": [
    "par=np.random.randint(items, size=(options, types))"
   ]
  },
  {
   "cell_type": "code",
   "execution_count": 4,
   "metadata": {
    "collapsed": false
   },
   "outputs": [],
   "source": [
    "s = np.random.dirichlet(par[:,0], 1).transpose()\n",
    "for i in range(1,types):\n",
    "    s = np.column_stack((s,np.random.dirichlet(par[:,i], 1).transpose()))   "
   ]
  },
  {
   "cell_type": "code",
   "execution_count": 5,
   "metadata": {
    "collapsed": false
   },
   "outputs": [],
   "source": [
    "R=np.random.choice(range(1,6),items, p=s[:,0],replace=True)\n",
    "for i in range(ppl_cnt):\n",
    "    j=np.random.choice(types,1)\n",
    "    R=np.column_stack((R,np.random.choice(range(1,6),items, p=s[:,j[0]],replace=True)))\n",
    "R=R.T"
   ]
  },
  {
   "cell_type": "code",
   "execution_count": 6,
   "metadata": {
    "collapsed": false
   },
   "outputs": [],
   "source": [
    "S=R"
   ]
  },
  {
   "cell_type": "code",
   "execution_count": 7,
   "metadata": {
    "collapsed": true
   },
   "outputs": [],
   "source": [
    "sparsity=.75\n",
    "index = np.random.choice(ppl_cnt*items,int(ppl_cnt*items*sparsity),replace=False)"
   ]
  },
  {
   "cell_type": "code",
   "execution_count": 8,
   "metadata": {
    "collapsed": false
   },
   "outputs": [],
   "source": [
    "l=np.zeros(len(index))\n",
    "for x in index:\n",
    "    i=x//items;j=x%items\n",
    "    S[i,j]=0"
   ]
  },
  {
   "cell_type": "code",
   "execution_count": 9,
   "metadata": {
    "collapsed": false
   },
   "outputs": [
    {
     "data": {
      "text/plain": [
       "array([[0, 0, 5, 0, 0],\n",
       "       [0, 0, 1, 0, 0],\n",
       "       [0, 0, 0, 5, 1],\n",
       "       [1, 1, 1, 0, 0],\n",
       "       [1, 0, 1, 0, 0],\n",
       "       [0, 4, 4, 0, 0],\n",
       "       [0, 0, 0, 0, 0],\n",
       "       [0, 0, 0, 3, 0],\n",
       "       [0, 4, 0, 0, 0],\n",
       "       [0, 0, 0, 0, 0],\n",
       "       [1, 3, 1, 2, 5]])"
      ]
     },
     "execution_count": 9,
     "metadata": {},
     "output_type": "execute_result"
    }
   ],
   "source": [
    "S"
   ]
  },
  {
   "cell_type": "code",
   "execution_count": 10,
   "metadata": {
    "collapsed": false
   },
   "outputs": [],
   "source": [
    "mu=np.sum(S)/np.count_nonzero(S)\n",
    "def fnctn(u,i):\n",
    "    ru=np.mean(S[u,np.nonzero(S[u,:])]-mu)\n",
    "    ci=np.mean(S[np.nonzero(S[:,i]),i]-mu-ru)\n",
    "    return(mu-ru-ci)"
   ]
  },
  {
   "cell_type": "code",
   "execution_count": 11,
   "metadata": {
    "collapsed": false
   },
   "outputs": [
    {
     "data": {
      "text/plain": [
       "1.8888888888888893"
      ]
     },
     "execution_count": 11,
     "metadata": {},
     "output_type": "execute_result"
    }
   ],
   "source": [
    "fnctn(0,1)"
   ]
  },
  {
   "cell_type": "markdown",
   "metadata": {},
   "source": [
    "where $S[i,j]=0$ means that the user $i$ has not rated the item $j$. To predict $S[i,j]$, we proceed with an ANOVA style analysis, i.e we consider a mean effect, the effect of being in row $i$ and the effect of being in column $j$. Mathematically we can write,\n",
    "$$b_{u,i} = \\mu + {\\bf R}_u + {\\bf C}_i,$$\n",
    "where \n",
    "* $\\mu$ is the mean rate $$\\mu= \\frac{\\text{np.sum}(S)}{\\text{np.count_nonzero}(S)}.$$\n",
    "* ${\\bf R}_u$ is mean effect of being in row $u$, which is $mean(S[u,]-\\mu)$, for non-zero elements. To compute ${\\bf R}_u$, we first find the index of non-zero elements in $S[u,]$ as follows:\n",
    "$$\\text{nz_ind}=\\text{np.nonzero}(S[u,:]).$$\n",
    "Then the non-zero elements are \n",
    "$$\\text{nz_el}=S[u,\\text{nz_ind}].$$\n",
    "Then the mean effect of the row $u$ is \n",
    "$${\\bf R}_u=\\text{np.mean}(\\text{nz_el}-\\mu).$$\n",
    "* ${\\bf C}_i$ is the effect of bein in column $i$, after the previous 2 effects removed\n",
    "    $${\\bf C}_i=np.mean(S[np.nonzero(S[:,i]),i]-\\mu-{\\bf R}_u)$$"
   ]
  },
  {
   "cell_type": "markdown",
   "metadata": {},
   "source": [
    "# Content Based Recommender "
   ]
  },
  {
   "cell_type": "code",
   "execution_count": 12,
   "metadata": {
    "collapsed": false
   },
   "outputs": [
    {
     "data": {
      "text/html": [
       "<div>\n",
       "<table border=\"1\" class=\"dataframe\">\n",
       "  <thead>\n",
       "    <tr style=\"text-align: right;\">\n",
       "      <th></th>\n",
       "      <th>Movie</th>\n",
       "      <th>Alice</th>\n",
       "      <th>Bob</th>\n",
       "      <th>Carol</th>\n",
       "      <th>Dave</th>\n",
       "    </tr>\n",
       "  </thead>\n",
       "  <tbody>\n",
       "    <tr>\n",
       "      <th>0</th>\n",
       "      <td>Love at least</td>\n",
       "      <td>5.0</td>\n",
       "      <td>5.0</td>\n",
       "      <td>0.0</td>\n",
       "      <td>0.0</td>\n",
       "    </tr>\n",
       "    <tr>\n",
       "      <th>1</th>\n",
       "      <td>Romance forever</td>\n",
       "      <td>5.0</td>\n",
       "      <td>NaN</td>\n",
       "      <td>NaN</td>\n",
       "      <td>0.0</td>\n",
       "    </tr>\n",
       "    <tr>\n",
       "      <th>2</th>\n",
       "      <td>Cute puppies of love</td>\n",
       "      <td>NaN</td>\n",
       "      <td>4.0</td>\n",
       "      <td>0.0</td>\n",
       "      <td>NaN</td>\n",
       "    </tr>\n",
       "    <tr>\n",
       "      <th>3</th>\n",
       "      <td>Nonstope car chases</td>\n",
       "      <td>0.0</td>\n",
       "      <td>0.0</td>\n",
       "      <td>5.0</td>\n",
       "      <td>4.0</td>\n",
       "    </tr>\n",
       "    <tr>\n",
       "      <th>4</th>\n",
       "      <td>Swords vs. karate</td>\n",
       "      <td>0.0</td>\n",
       "      <td>0.0</td>\n",
       "      <td>5.0</td>\n",
       "      <td>NaN</td>\n",
       "    </tr>\n",
       "  </tbody>\n",
       "</table>\n",
       "</div>"
      ],
      "text/plain": [
       "                  Movie  Alice  Bob  Carol  Dave\n",
       "0         Love at least    5.0  5.0    0.0   0.0\n",
       "1       Romance forever    5.0  NaN    NaN   0.0\n",
       "2  Cute puppies of love    NaN  4.0    0.0   NaN\n",
       "3   Nonstope car chases    0.0  0.0    5.0   4.0\n",
       "4     Swords vs. karate    0.0  0.0    5.0   NaN"
      ]
     },
     "execution_count": 12,
     "metadata": {},
     "output_type": "execute_result"
    }
   ],
   "source": [
    "#use either np.nan or None for missing values\n",
    "#None is a python internal type, np.nan is numpy type.\n",
    "usr = pd.DataFrame(\n",
    "    {\n",
    "        'Movie':[\"Love at least\",\"Romance forever\",\"Cute puppies of love\",\n",
    "                            \"Nonstope car chases\",\"Swords vs. karate\"], \n",
    "        \"Alice\":[5,5,None,0,0],\n",
    "        \"Bob\":[5,None,4,0,0],\n",
    "        \"Carol\":[0,None,0,5,5],\n",
    "        \"Dave\":[0,0,None,4,None]\n",
    "    },\n",
    "    columns=[\"Movie\",\"Alice\",\"Bob\",\"Carol\",\"Dave\"])\n",
    "usr"
   ]
  },
  {
   "cell_type": "markdown",
   "metadata": {},
   "source": [
    "Next, assume each movie has 2 features: Romance and Action. We add these two features to the table."
   ]
  },
  {
   "cell_type": "code",
   "execution_count": 13,
   "metadata": {
    "collapsed": false
   },
   "outputs": [
    {
     "data": {
      "text/html": [
       "<div>\n",
       "<table border=\"1\" class=\"dataframe\">\n",
       "  <thead>\n",
       "    <tr style=\"text-align: right;\">\n",
       "      <th></th>\n",
       "      <th>Movie</th>\n",
       "      <th>Romance</th>\n",
       "      <th>Action</th>\n",
       "    </tr>\n",
       "  </thead>\n",
       "  <tbody>\n",
       "    <tr>\n",
       "      <th>0</th>\n",
       "      <td>Romance forever</td>\n",
       "      <td>0.99</td>\n",
       "      <td>0.01</td>\n",
       "    </tr>\n",
       "    <tr>\n",
       "      <th>1</th>\n",
       "      <td>Love at least</td>\n",
       "      <td>0.90</td>\n",
       "      <td>0.00</td>\n",
       "    </tr>\n",
       "    <tr>\n",
       "      <th>2</th>\n",
       "      <td>Cute puppies of love</td>\n",
       "      <td>1.00</td>\n",
       "      <td>0.00</td>\n",
       "    </tr>\n",
       "    <tr>\n",
       "      <th>3</th>\n",
       "      <td>Swords vs. karate</td>\n",
       "      <td>0.00</td>\n",
       "      <td>1.00</td>\n",
       "    </tr>\n",
       "    <tr>\n",
       "      <th>4</th>\n",
       "      <td>Nonstope car chases</td>\n",
       "      <td>0.10</td>\n",
       "      <td>1.00</td>\n",
       "    </tr>\n",
       "  </tbody>\n",
       "</table>\n",
       "</div>"
      ],
      "text/plain": [
       "                  Movie  Romance  Action\n",
       "0       Romance forever     0.99    0.01\n",
       "1         Love at least     0.90    0.00\n",
       "2  Cute puppies of love     1.00    0.00\n",
       "3     Swords vs. karate     0.00    1.00\n",
       "4   Nonstope car chases     0.10    1.00"
      ]
     },
     "execution_count": 13,
     "metadata": {},
     "output_type": "execute_result"
    }
   ],
   "source": [
    "ftr = pd.DataFrame(\n",
    "    {\n",
    "        'Movie':[\"Romance forever\",\"Love at least\",\n",
    "                 \"Cute puppies of love\",\n",
    "                 \"Swords vs. karate\",\"Nonstope car chases\"],\n",
    "        \"Romance\":[.99,.9,1,0,.1], \n",
    "        \"Action\":[.01,0,0,1,1]\n",
    "    },\n",
    "    columns=[\"Movie\",\"Romance\",\"Action\"]\n",
    ")\n",
    "ftr"
   ]
  },
  {
   "cell_type": "markdown",
   "metadata": {},
   "source": [
    "### Merge usr and ftr"
   ]
  },
  {
   "cell_type": "code",
   "execution_count": 14,
   "metadata": {
    "collapsed": false
   },
   "outputs": [
    {
     "data": {
      "text/html": [
       "<div>\n",
       "<table border=\"1\" class=\"dataframe\">\n",
       "  <thead>\n",
       "    <tr style=\"text-align: right;\">\n",
       "      <th></th>\n",
       "      <th>Movie</th>\n",
       "      <th>Alice</th>\n",
       "      <th>Bob</th>\n",
       "      <th>Carol</th>\n",
       "      <th>Dave</th>\n",
       "      <th>Romance</th>\n",
       "      <th>Action</th>\n",
       "    </tr>\n",
       "  </thead>\n",
       "  <tbody>\n",
       "    <tr>\n",
       "      <th>0</th>\n",
       "      <td>Love at least</td>\n",
       "      <td>5.0</td>\n",
       "      <td>5.0</td>\n",
       "      <td>0.0</td>\n",
       "      <td>0.0</td>\n",
       "      <td>0.90</td>\n",
       "      <td>0.00</td>\n",
       "    </tr>\n",
       "    <tr>\n",
       "      <th>1</th>\n",
       "      <td>Romance forever</td>\n",
       "      <td>5.0</td>\n",
       "      <td>NaN</td>\n",
       "      <td>NaN</td>\n",
       "      <td>0.0</td>\n",
       "      <td>0.99</td>\n",
       "      <td>0.01</td>\n",
       "    </tr>\n",
       "    <tr>\n",
       "      <th>2</th>\n",
       "      <td>Cute puppies of love</td>\n",
       "      <td>NaN</td>\n",
       "      <td>4.0</td>\n",
       "      <td>0.0</td>\n",
       "      <td>NaN</td>\n",
       "      <td>1.00</td>\n",
       "      <td>0.00</td>\n",
       "    </tr>\n",
       "    <tr>\n",
       "      <th>3</th>\n",
       "      <td>Nonstope car chases</td>\n",
       "      <td>0.0</td>\n",
       "      <td>0.0</td>\n",
       "      <td>5.0</td>\n",
       "      <td>4.0</td>\n",
       "      <td>0.10</td>\n",
       "      <td>1.00</td>\n",
       "    </tr>\n",
       "    <tr>\n",
       "      <th>4</th>\n",
       "      <td>Swords vs. karate</td>\n",
       "      <td>0.0</td>\n",
       "      <td>0.0</td>\n",
       "      <td>5.0</td>\n",
       "      <td>NaN</td>\n",
       "      <td>0.00</td>\n",
       "      <td>1.00</td>\n",
       "    </tr>\n",
       "  </tbody>\n",
       "</table>\n",
       "</div>"
      ],
      "text/plain": [
       "                  Movie  Alice  Bob  Carol  Dave  Romance  Action\n",
       "0         Love at least    5.0  5.0    0.0   0.0     0.90    0.00\n",
       "1       Romance forever    5.0  NaN    NaN   0.0     0.99    0.01\n",
       "2  Cute puppies of love    NaN  4.0    0.0   NaN     1.00    0.00\n",
       "3   Nonstope car chases    0.0  0.0    5.0   4.0     0.10    1.00\n",
       "4     Swords vs. karate    0.0  0.0    5.0   NaN     0.00    1.00"
      ]
     },
     "execution_count": 14,
     "metadata": {},
     "output_type": "execute_result"
    }
   ],
   "source": [
    "UF=pd.merge(usr,ftr,on=\"Movie\")\n",
    "UF"
   ]
  },
  {
   "cell_type": "markdown",
   "metadata": {},
   "source": [
    "### Select and filter"
   ]
  },
  {
   "cell_type": "code",
   "execution_count": 15,
   "metadata": {
    "collapsed": false
   },
   "outputs": [
    {
     "data": {
      "text/plain": [
       "0           Love at least\n",
       "1         Romance forever\n",
       "2    Cute puppies of love\n",
       "3     Nonstope car chases\n",
       "4       Swords vs. karate\n",
       "Name: Movie, dtype: object"
      ]
     },
     "execution_count": 15,
     "metadata": {},
     "output_type": "execute_result"
    }
   ],
   "source": [
    "#1 select column Movie\n",
    "UF.Movie\n",
    "#or\n",
    "#UF['Movie']"
   ]
  },
  {
   "cell_type": "code",
   "execution_count": 16,
   "metadata": {
    "collapsed": false
   },
   "outputs": [
    {
     "data": {
      "text/html": [
       "<div>\n",
       "<table border=\"1\" class=\"dataframe\">\n",
       "  <thead>\n",
       "    <tr style=\"text-align: right;\">\n",
       "      <th></th>\n",
       "      <th>Carol</th>\n",
       "      <th>Dave</th>\n",
       "      <th>Romance</th>\n",
       "    </tr>\n",
       "  </thead>\n",
       "  <tbody>\n",
       "    <tr>\n",
       "      <th>2</th>\n",
       "      <td>0.0</td>\n",
       "      <td>NaN</td>\n",
       "      <td>1.0</td>\n",
       "    </tr>\n",
       "    <tr>\n",
       "      <th>3</th>\n",
       "      <td>5.0</td>\n",
       "      <td>4.0</td>\n",
       "      <td>0.1</td>\n",
       "    </tr>\n",
       "    <tr>\n",
       "      <th>4</th>\n",
       "      <td>5.0</td>\n",
       "      <td>NaN</td>\n",
       "      <td>0.0</td>\n",
       "    </tr>\n",
       "  </tbody>\n",
       "</table>\n",
       "</div>"
      ],
      "text/plain": [
       "   Carol  Dave  Romance\n",
       "2    0.0   NaN      1.0\n",
       "3    5.0   4.0      0.1\n",
       "4    5.0   NaN      0.0"
      ]
     },
     "execution_count": 16,
     "metadata": {},
     "output_type": "execute_result"
    }
   ],
   "source": [
    "#Select column 3,4,5 and rows bigger than 2\n",
    "UF.ix[2:,3:6]"
   ]
  },
  {
   "cell_type": "code",
   "execution_count": 17,
   "metadata": {
    "collapsed": false
   },
   "outputs": [
    {
     "data": {
      "text/html": [
       "<div>\n",
       "<table border=\"1\" class=\"dataframe\">\n",
       "  <thead>\n",
       "    <tr style=\"text-align: right;\">\n",
       "      <th></th>\n",
       "      <th>Alice</th>\n",
       "      <th>Bob</th>\n",
       "      <th>Carol</th>\n",
       "      <th>Dave</th>\n",
       "    </tr>\n",
       "  </thead>\n",
       "  <tbody>\n",
       "    <tr>\n",
       "      <th>0</th>\n",
       "      <td>True</td>\n",
       "      <td>True</td>\n",
       "      <td>False</td>\n",
       "      <td>False</td>\n",
       "    </tr>\n",
       "    <tr>\n",
       "      <th>1</th>\n",
       "      <td>True</td>\n",
       "      <td>False</td>\n",
       "      <td>False</td>\n",
       "      <td>False</td>\n",
       "    </tr>\n",
       "    <tr>\n",
       "      <th>2</th>\n",
       "      <td>False</td>\n",
       "      <td>True</td>\n",
       "      <td>False</td>\n",
       "      <td>False</td>\n",
       "    </tr>\n",
       "    <tr>\n",
       "      <th>3</th>\n",
       "      <td>False</td>\n",
       "      <td>False</td>\n",
       "      <td>True</td>\n",
       "      <td>True</td>\n",
       "    </tr>\n",
       "    <tr>\n",
       "      <th>4</th>\n",
       "      <td>False</td>\n",
       "      <td>False</td>\n",
       "      <td>True</td>\n",
       "      <td>False</td>\n",
       "    </tr>\n",
       "  </tbody>\n",
       "</table>\n",
       "</div>"
      ],
      "text/plain": [
       "   Alice    Bob  Carol   Dave\n",
       "0   True   True  False  False\n",
       "1   True  False  False  False\n",
       "2  False   True  False  False\n",
       "3  False  False   True   True\n",
       "4  False  False   True  False"
      ]
     },
     "execution_count": 17,
     "metadata": {},
     "output_type": "execute_result"
    }
   ],
   "source": [
    "#Problem2\n",
    "#2 select movies with at least 2 rating bigger than 2\n",
    "#first make a mask. This mask tells us which ratings are bigger than 2\n",
    "mask=UF.drop([\"Movie\",\"Romance\",\"Action\"],axis=1)>2\n",
    "mask"
   ]
  },
  {
   "cell_type": "code",
   "execution_count": 18,
   "metadata": {
    "collapsed": false
   },
   "outputs": [
    {
     "name": "stdout",
     "output_type": "stream",
     "text": [
      "  Movie  Alice  Bob  Carol  Dave  Romance  Action\n",
      "0   NaN    5.0  5.0    NaN   NaN      NaN     NaN\n",
      "1   NaN    5.0  NaN    NaN   NaN      NaN     NaN\n",
      "2   NaN    NaN  4.0    NaN   NaN      NaN     NaN\n",
      "3   NaN    NaN  NaN    5.0   4.0      NaN     NaN\n",
      "4   NaN    NaN  NaN    5.0   NaN      NaN     NaN\n"
     ]
    }
   ],
   "source": [
    "#Problem2-Continued\n",
    "#see U[mask] tells us which \n",
    "print(UF[mask])"
   ]
  },
  {
   "cell_type": "code",
   "execution_count": 19,
   "metadata": {
    "collapsed": false
   },
   "outputs": [
    {
     "data": {
      "text/html": [
       "<div>\n",
       "<table border=\"1\" class=\"dataframe\">\n",
       "  <thead>\n",
       "    <tr style=\"text-align: right;\">\n",
       "      <th></th>\n",
       "      <th>Movie</th>\n",
       "      <th>exeed2</th>\n",
       "    </tr>\n",
       "  </thead>\n",
       "  <tbody>\n",
       "    <tr>\n",
       "      <th>0</th>\n",
       "      <td>Love at least</td>\n",
       "      <td>2</td>\n",
       "    </tr>\n",
       "    <tr>\n",
       "      <th>1</th>\n",
       "      <td>Romance forever</td>\n",
       "      <td>1</td>\n",
       "    </tr>\n",
       "    <tr>\n",
       "      <th>2</th>\n",
       "      <td>Cute puppies of love</td>\n",
       "      <td>1</td>\n",
       "    </tr>\n",
       "    <tr>\n",
       "      <th>3</th>\n",
       "      <td>Nonstope car chases</td>\n",
       "      <td>2</td>\n",
       "    </tr>\n",
       "    <tr>\n",
       "      <th>4</th>\n",
       "      <td>Swords vs. karate</td>\n",
       "      <td>1</td>\n",
       "    </tr>\n",
       "  </tbody>\n",
       "</table>\n",
       "</div>"
      ],
      "text/plain": [
       "                  Movie  exeed2\n",
       "0         Love at least       2\n",
       "1       Romance forever       1\n",
       "2  Cute puppies of love       1\n",
       "3   Nonstope car chases       2\n",
       "4     Swords vs. karate       1"
      ]
     },
     "execution_count": 19,
     "metadata": {},
     "output_type": "execute_result"
    }
   ],
   "source": [
    "#Problem2-Continued\n",
    "#column exceed2 in each row, counts how many ratings >2 are there for a movie\n",
    "UF['exeed2']=UF[mask].count(axis=1)\n",
    "EXEED2=UF[['Movie','exeed2']]\n",
    "EXEED2"
   ]
  },
  {
   "cell_type": "code",
   "execution_count": 20,
   "metadata": {
    "collapsed": false
   },
   "outputs": [
    {
     "data": {
      "text/html": [
       "<div>\n",
       "<table border=\"1\" class=\"dataframe\">\n",
       "  <thead>\n",
       "    <tr style=\"text-align: right;\">\n",
       "      <th></th>\n",
       "      <th>Movie</th>\n",
       "      <th>exeed2</th>\n",
       "    </tr>\n",
       "  </thead>\n",
       "  <tbody>\n",
       "    <tr>\n",
       "      <th>0</th>\n",
       "      <td>Love at least</td>\n",
       "      <td>2</td>\n",
       "    </tr>\n",
       "    <tr>\n",
       "      <th>3</th>\n",
       "      <td>Nonstope car chases</td>\n",
       "      <td>2</td>\n",
       "    </tr>\n",
       "  </tbody>\n",
       "</table>\n",
       "</div>"
      ],
      "text/plain": [
       "                 Movie  exeed2\n",
       "0        Love at least       2\n",
       "3  Nonstope car chases       2"
      ]
     },
     "execution_count": 20,
     "metadata": {},
     "output_type": "execute_result"
    }
   ],
   "source": [
    "#Problem2-Continued[Let me know if you have easier solution]\n",
    "#Filter out based on the value of the column exeed:\n",
    "EXEED2[EXEED2['exeed2']>1]"
   ]
  },
  {
   "cell_type": "code",
   "execution_count": 21,
   "metadata": {
    "collapsed": false
   },
   "outputs": [
    {
     "data": {
      "text/plain": [
       "0           Love at least\n",
       "1         Romance forever\n",
       "2    Cute puppies of love\n",
       "Name: Movie, dtype: object"
      ]
     },
     "execution_count": 21,
     "metadata": {},
     "output_type": "execute_result"
    }
   ],
   "source": [
    "#Filter based on Romance value of the movie>.5\n",
    "UF.ix[UF.Romance>.5,'Movie']"
   ]
  },
  {
   "cell_type": "markdown",
   "metadata": {},
   "source": [
    "### Find average romance feature of all movies"
   ]
  },
  {
   "cell_type": "code",
   "execution_count": 22,
   "metadata": {
    "collapsed": false
   },
   "outputs": [
    {
     "name": "stdout",
     "output_type": "stream",
     "text": [
      "mean romance is: 0.598\n",
      "mean romance is: 0.598 , and mean action is: 0.402\n",
      "Alice      10.00\n",
      "Bob         9.00\n",
      "Carol      10.00\n",
      "Dave        4.00\n",
      "Romance     2.99\n",
      "Action      2.01\n",
      "exeed2      7.00\n",
      "dtype: float64\n"
     ]
    }
   ],
   "source": [
    "#Average of Romance value of movies (mean of Romance column)\n",
    "rmean=UF.Romance.mean()\n",
    "#print rmean\n",
    "print(\"mean romance is:\",np.round(rmean,3))\n",
    "\n",
    "r_a_mean=UF[['Romance','Action']].mean()\n",
    "print(\"mean romance is:\",r_a_mean['Romance'],\", and mean action is:\",r_a_mean['Action'])\n",
    "print(UF.drop('Movie', axis=1).sum())"
   ]
  },
  {
   "cell_type": "code",
   "execution_count": 23,
   "metadata": {
    "collapsed": false
   },
   "outputs": [
    {
     "data": {
      "text/plain": [
       "Alice      2.500000\n",
       "Bob        2.250000\n",
       "Carol      2.500000\n",
       "Dave       1.333333\n",
       "Romance    0.598000\n",
       "Action     0.402000\n",
       "dtype: float64"
      ]
     },
     "execution_count": 23,
     "metadata": {},
     "output_type": "execute_result"
    }
   ],
   "source": [
    "#You can take the average of all columns for which averaging make sence for them:\n",
    "UF.drop([\"Movie\",\"exeed2\"],axis=1).mean()"
   ]
  },
  {
   "cell_type": "code",
   "execution_count": 24,
   "metadata": {
    "collapsed": false
   },
   "outputs": [
    {
     "data": {
      "text/html": [
       "<div>\n",
       "<table border=\"1\" class=\"dataframe\">\n",
       "  <thead>\n",
       "    <tr style=\"text-align: right;\">\n",
       "      <th></th>\n",
       "      <th>Movie</th>\n",
       "      <th>movie_ave</th>\n",
       "    </tr>\n",
       "  </thead>\n",
       "  <tbody>\n",
       "    <tr>\n",
       "      <th>0</th>\n",
       "      <td>Love at least</td>\n",
       "      <td>2.500000</td>\n",
       "    </tr>\n",
       "    <tr>\n",
       "      <th>1</th>\n",
       "      <td>Romance forever</td>\n",
       "      <td>2.500000</td>\n",
       "    </tr>\n",
       "    <tr>\n",
       "      <th>2</th>\n",
       "      <td>Cute puppies of love</td>\n",
       "      <td>2.000000</td>\n",
       "    </tr>\n",
       "    <tr>\n",
       "      <th>3</th>\n",
       "      <td>Nonstope car chases</td>\n",
       "      <td>2.250000</td>\n",
       "    </tr>\n",
       "    <tr>\n",
       "      <th>4</th>\n",
       "      <td>Swords vs. karate</td>\n",
       "      <td>1.666667</td>\n",
       "    </tr>\n",
       "  </tbody>\n",
       "</table>\n",
       "</div>"
      ],
      "text/plain": [
       "                  Movie  movie_ave\n",
       "0         Love at least   2.500000\n",
       "1       Romance forever   2.500000\n",
       "2  Cute puppies of love   2.000000\n",
       "3   Nonstope car chases   2.250000\n",
       "4     Swords vs. karate   1.666667"
      ]
     },
     "execution_count": 24,
     "metadata": {},
     "output_type": "execute_result"
    }
   ],
   "source": [
    "#find the average; it excludes None values\n",
    "UF['movie_ave']=UF.ix[:,1:5].mean(axis=1)\n",
    "UF[['Movie','movie_ave']]"
   ]
  },
  {
   "cell_type": "markdown",
   "metadata": {},
   "source": [
    "### Apply a function to each cell in a column"
   ]
  },
  {
   "cell_type": "code",
   "execution_count": 25,
   "metadata": {
    "collapsed": false
   },
   "outputs": [
    {
     "name": "stdout",
     "output_type": "stream",
     "text": [
      "0           LOVE AT LEAST\n",
      "1         ROMANCE FOREVER\n",
      "2    CUTE PUPPIES OF LOVE\n",
      "3     NONSTOPE CAR CHASES\n",
      "4       SWORDS VS. KARATE\n",
      "Name: Movie, dtype: object\n"
     ]
    }
   ],
   "source": [
    "#Capitalize the name of them movie in Moive column\n",
    "#First define a function that capitalizes strings, using lambda function\n",
    "f= lambda x: x.upper()\n",
    "#Use apply function to apply it to each cell in Movie \n",
    "UF['Movie']=UF['Movie'].apply(f)\n",
    "print(UF.Movie)"
   ]
  },
  {
   "cell_type": "markdown",
   "metadata": {},
   "source": [
    "## Content Based Recommender Systems"
   ]
  },
  {
   "cell_type": "markdown",
   "metadata": {},
   "source": [
    "Let $n$ and $N$ denote number of the features and users respectively. For each user $j\\in 1,\\cdots,N$, there is a parameter $\\theta^j\\in R^{n+1}$ that can be used to predict user $j$'s rating for a movie with featurs $(r,a)$. Here $r$ is the romance value and $a$ is the action value of the moive. The prediction would be \n",
    "$$R=\\theta^j.(1,r,a)$$\n",
    "For example if a user has parametes $(1,10,1)$, then their rating for a movie with Romance and Action value $=(.2,.9)$ would be \n",
    "$$R=1+10*(.2)+1*(.9)=3.9$$"
   ]
  },
  {
   "cell_type": "markdown",
   "metadata": {},
   "source": [
    "What do you think would be $\\theta$ for Carol?\n",
    "${\\bf Answer:}$(0,0,5)$"
   ]
  },
  {
   "cell_type": "code",
   "execution_count": null,
   "metadata": {
    "collapsed": true
   },
   "outputs": [],
   "source": []
  },
  {
   "cell_type": "markdown",
   "metadata": {},
   "source": [
    "### Singular Value Decomposition"
   ]
  },
  {
   "cell_type": "markdown",
   "metadata": {},
   "source": [
    "Let $M$ denote a 2-dim array. Dimensions of $M$ are customers and days of week. Each entry is the number of transaction made by a customer at a day. "
   ]
  },
  {
   "cell_type": "code",
   "execution_count": 26,
   "metadata": {
    "collapsed": false
   },
   "outputs": [
    {
     "name": "stdout",
     "output_type": "stream",
     "text": [
      "  customers  Monday  Tuesday  Wednesday  Thursday  Friday\n",
      "0  ABC Inc.       1        1          1         0       0\n",
      "1  DEF Ltd.       2        2          2         0       0\n",
      "2  GHI Inc.       1        1          1         0       0\n",
      "3   KLM Co.       5        5          5         0       0\n",
      "4     Smith       0        0          0         2       2\n",
      "5   Johnson       0        0          0         3       3\n",
      "6  Thompson       5        5          5         6       6\n"
     ]
    }
   ],
   "source": [
    "M=pd.DataFrame(\n",
    "{\n",
    "    \"customers\":[\"ABC Inc.\",\"DEF Ltd.\",\"GHI Inc.\",\"KLM Co.\",\"Smith\",\"Johnson\",\"Thompson\"],\n",
    "    \"Monday\":[1,2,1,5,0,0,5],\n",
    "    \"Tuesday\":[1,2,1,5,0,0,5],\n",
    "    \"Wednesday\":[1,2,1,5,0,0,5],\n",
    "    \"Thursday\":[0,0,0,0,2,3,6],\n",
    "    \"Friday\":[0,0,0,0,2,3,6]\n",
    "    },\n",
    "    columns=[\"customers\",\"Monday\",\"Tuesday\",\"Wednesday\",\"Thursday\",\"Friday\"]\n",
    ")\n",
    "print(M)"
   ]
  },
  {
   "cell_type": "markdown",
   "metadata": {},
   "source": [
    "* We think of $M$ as a collection of points in a 5 dimensional space. \n",
    "* Although we used 5 dimensions to represent customers daily purchases, we can reduce the dimension to 2.\n",
    "$${\\text{dimension 1}}=[1,1,1,0,0]$$\n",
    "$${\\text{dimension 2}}=[0,0,0,1,1]$$\n",
    "* This holds because all customers purchases is a linear combinations of these two vectors. For example\n",
    "$${\\text{Thompson's purchases}}=5*[1,1,1,0,0]+6*[0,0,0,1,1]$$\n",
    "* This means that all points in $M$ stay in 2 dimensional subspace of this 5 dimensional space.\n",
    "* In this new coordinate system We can write $M$ as the follwing:"
   ]
  },
  {
   "cell_type": "code",
   "execution_count": 27,
   "metadata": {
    "collapsed": false
   },
   "outputs": [
    {
     "data": {
      "text/html": [
       "<div>\n",
       "<table border=\"1\" class=\"dataframe\">\n",
       "  <thead>\n",
       "    <tr style=\"text-align: right;\">\n",
       "      <th></th>\n",
       "      <th>customers</th>\n",
       "      <th>MTW</th>\n",
       "      <th>ThF</th>\n",
       "    </tr>\n",
       "  </thead>\n",
       "  <tbody>\n",
       "    <tr>\n",
       "      <th>0</th>\n",
       "      <td>ABC Inc.</td>\n",
       "      <td>1</td>\n",
       "      <td>0</td>\n",
       "    </tr>\n",
       "    <tr>\n",
       "      <th>1</th>\n",
       "      <td>DEF Ltd.</td>\n",
       "      <td>2</td>\n",
       "      <td>0</td>\n",
       "    </tr>\n",
       "    <tr>\n",
       "      <th>2</th>\n",
       "      <td>GHI Inc.</td>\n",
       "      <td>1</td>\n",
       "      <td>0</td>\n",
       "    </tr>\n",
       "    <tr>\n",
       "      <th>3</th>\n",
       "      <td>KLM Co.</td>\n",
       "      <td>5</td>\n",
       "      <td>0</td>\n",
       "    </tr>\n",
       "    <tr>\n",
       "      <th>4</th>\n",
       "      <td>Smith</td>\n",
       "      <td>0</td>\n",
       "      <td>2</td>\n",
       "    </tr>\n",
       "    <tr>\n",
       "      <th>5</th>\n",
       "      <td>Johnson</td>\n",
       "      <td>0</td>\n",
       "      <td>3</td>\n",
       "    </tr>\n",
       "    <tr>\n",
       "      <th>6</th>\n",
       "      <td>Thompson</td>\n",
       "      <td>5</td>\n",
       "      <td>6</td>\n",
       "    </tr>\n",
       "  </tbody>\n",
       "</table>\n",
       "</div>"
      ],
      "text/plain": [
       "  customers  MTW  ThF\n",
       "0  ABC Inc.    1    0\n",
       "1  DEF Ltd.    2    0\n",
       "2  GHI Inc.    1    0\n",
       "3   KLM Co.    5    0\n",
       "4     Smith    0    2\n",
       "5   Johnson    0    3\n",
       "6  Thompson    5    6"
      ]
     },
     "execution_count": 27,
     "metadata": {},
     "output_type": "execute_result"
    }
   ],
   "source": [
    "#In this new coordinate system We can write  MM  as the follwing:\n",
    "M=pd.DataFrame(\n",
    "{\n",
    "    \"customers\":[\"ABC Inc.\",\"DEF Ltd.\",\"GHI Inc.\",\"KLM Co.\",\"Smith\",\"Johnson\",\"Thompson\"],\n",
    "    \"MTW\":[1,2,1,5,0,0,5],\n",
    "    \"ThF\":[0,0,0,0,2,3,6],\n",
    "    },\n",
    "    columns=[\"customers\",\"MTW\",\"ThF\"]\n",
    ")\n",
    "M"
   ]
  },
  {
   "cell_type": "markdown",
   "metadata": {},
   "source": [
    "Why Reduce dimension?\n",
    "* Discover correlation \n",
    "* Remove Redundant and noisy features\n",
    "* Interpretation and visualization \n",
    "* Easier storage"
   ]
  },
  {
   "cell_type": "code",
   "execution_count": 28,
   "metadata": {
    "collapsed": false
   },
   "outputs": [
    {
     "name": "stdout",
     "output_type": "stream",
     "text": [
      "(7, 5)\n",
      "P= [[-0.10002492 -0.12871551  0.98342876  0.01510526 -0.07778762]\n",
      " [-0.20004985 -0.25743102 -0.12726031 -0.04717752 -0.93548442]\n",
      " [-0.10002492 -0.12871551 -0.04181106  0.95258565  0.01106288]\n",
      " [-0.50012462 -0.64357755 -0.10860567 -0.25569486  0.3062806 ]\n",
      " [-0.1031237   0.33292725  0.02659731 -0.07479479 -0.07500749]\n",
      " [-0.15468555  0.49939088  0.03989596 -0.11219218 -0.11251124]\n",
      " [-0.80949573  0.35520421 -0.02881375  0.08102769  0.08125812]]\n",
      "************\n",
      "D= [  1.46422028e+01   7.18372445e+00   9.74524070e-16   1.35798063e-16\n",
      "   2.96551319e-17]\n",
      "************\n",
      "Q= [[ -4.88195074e-01  -4.88195074e-01  -4.88195074e-01  -3.77489542e-01\n",
      "   -3.77489542e-01]\n",
      " [ -3.08218921e-01  -3.08218921e-01  -3.08218921e-01   5.97914413e-01\n",
      "    5.97914413e-01]\n",
      " [ -8.15851169e-01   4.36035245e-01   3.79815923e-01  -3.34675269e-17\n",
      "   -3.34675269e-17]\n",
      " [ -0.00000000e+00   7.95585811e-17  -5.56546944e-17   7.07106781e-01\n",
      "   -7.07106781e-01]\n",
      " [  3.24582408e-02   6.90318717e-01  -7.22776958e-01  -4.69358894e-17\n",
      "   -4.69358894e-17]]\n"
     ]
    }
   ],
   "source": [
    "Z =  [[1,2,1,5,0,0,5],[1,2,1,5,0,0,5],[1,2,1,5,0,0,5],[0,0,0,0,2,3,6],[0,0,0,0,2,3,6]]# generating a random\n",
    "A=np.array(Z).T\n",
    "P, D, Q = np.linalg.svd(A, full_matrices=False)\n",
    "print(P.shape)\n",
    "print(\"P=\",P)\n",
    "print(\"************\")\n",
    "print(\"D=\",D)\n",
    "print(\"************\")\n",
    "print(\"Q=\",Q)\n"
   ]
  },
  {
   "cell_type": "code",
   "execution_count": 29,
   "metadata": {
    "collapsed": false
   },
   "outputs": [
    {
     "data": {
      "text/plain": [
       "array([[  1.00000000e+00,   1.00000000e+00,   1.00000000e+00,\n",
       "          7.29249778e-16,   7.26348850e-16],\n",
       "       [  2.00000000e+00,   2.00000000e+00,   2.00000000e+00,\n",
       "         -4.09938375e-16,  -4.00878053e-16],\n",
       "       [  1.00000000e+00,   1.00000000e+00,   1.00000000e+00,\n",
       "          2.65316363e-16,   8.23747070e-17],\n",
       "       [  5.00000000e+00,   5.00000000e+00,   5.00000000e+00,\n",
       "          1.39747095e-15,   1.44657650e-15],\n",
       "       [  3.61263747e-17,   6.71115973e-17,  -6.39660317e-17,\n",
       "          2.00000000e+00,   2.00000000e+00],\n",
       "       [  1.22627911e-16,  -5.29388606e-17,  -2.75106992e-17,\n",
       "          3.00000000e+00,   3.00000000e+00],\n",
       "       [  5.00000000e+00,   5.00000000e+00,   5.00000000e+00,\n",
       "          6.00000000e+00,   6.00000000e+00]])"
      ]
     },
     "execution_count": 29,
     "metadata": {},
     "output_type": "execute_result"
    }
   ],
   "source": [
    "X_a = np.dot(np.dot(P, np.diag(D)), Q)\n",
    "X_a"
   ]
  },
  {
   "cell_type": "code",
   "execution_count": 30,
   "metadata": {
    "collapsed": false
   },
   "outputs": [
    {
     "name": "stdout",
     "output_type": "stream",
     "text": [
      "2.06308665126 2.06308665126 6.43108757214e-16\n"
     ]
    }
   ],
   "source": [
    "print(np.std(A), np.std(X_a), np.std(A - X_a))"
   ]
  }
 ],
 "metadata": {
  "kernelspec": {
   "display_name": "Python [conda root]",
   "language": "python",
   "name": "conda-root-py"
  },
  "language_info": {
   "codemirror_mode": {
    "name": "ipython",
    "version": 3
   },
   "file_extension": ".py",
   "mimetype": "text/x-python",
   "name": "python",
   "nbconvert_exporter": "python",
   "pygments_lexer": "ipython3",
   "version": "3.5.2"
  }
 },
 "nbformat": 4,
 "nbformat_minor": 2
}
