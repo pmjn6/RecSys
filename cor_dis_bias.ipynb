{
 "cells": [
  {
   "cell_type": "markdown",
   "metadata": {},
   "source": [
    "Here I want to show that the pearson distance suffers from bias towards users with less items in common; the final result so far is exa. Two users with fewer items in common are more likely to have a higher correlation. \n",
    "We construct a random rating matrix, with ratings between 0 to 5, where 0 dentes no rating. "
   ]
  },
  {
   "cell_type": "code",
   "execution_count": 1,
   "metadata": {
    "collapsed": true
   },
   "outputs": [],
   "source": [
    "import numpy as np"
   ]
  },
  {
   "cell_type": "code",
   "execution_count": 2,
   "metadata": {
    "collapsed": false
   },
   "outputs": [],
   "source": [
    "item_cnt=50\n",
    "usr_cnt=200\n",
    "R=np.random.randint(0,6,size=(usr_cnt,item_cnt))"
   ]
  },
  {
   "cell_type": "code",
   "execution_count": 3,
   "metadata": {
    "collapsed": false
   },
   "outputs": [
    {
     "name": "stdout",
     "output_type": "stream",
     "text": [
      "(200, 50)\n"
     ]
    },
    {
     "name": "stderr",
     "output_type": "stream",
     "text": [
      "/Users/pejman/anaconda/lib/python3.5/site-packages/ipykernel/__main__.py:1: VisibleDeprecationWarning: using a non-integer number instead of an integer will result in an error in the future\n",
      "  if __name__ == '__main__':\n",
      "/Users/pejman/anaconda/lib/python3.5/site-packages/ipykernel/__main__.py:2: VisibleDeprecationWarning: using a non-integer number instead of an integer will result in an error in the future\n",
      "  from ipykernel import kernelapp as app\n"
     ]
    }
   ],
   "source": [
    "R1=np.random.choice(4, size=(usr_cnt/2,item_cnt), p=[0.7, .1, 0.1, 0.1])\n",
    "R2=np.random.choice(4, size=(usr_cnt/2,item_cnt), p=[0.4, .2, 0.2, 0.2])\n",
    "R=np.concatenate((R1, R2), axis=0)\n",
    "print(R.shape)"
   ]
  },
  {
   "cell_type": "code",
   "execution_count": 4,
   "metadata": {
    "collapsed": false
   },
   "outputs": [
    {
     "data": {
      "text/plain": [
       "array([[0, 0, 3, ..., 0, 1, 0],\n",
       "       [1, 0, 1, ..., 3, 0, 0],\n",
       "       [2, 2, 2, ..., 0, 0, 3],\n",
       "       ..., \n",
       "       [0, 3, 0, ..., 1, 0, 2],\n",
       "       [3, 0, 0, ..., 0, 0, 0],\n",
       "       [1, 0, 0, ..., 1, 0, 3]])"
      ]
     },
     "execution_count": 4,
     "metadata": {},
     "output_type": "execute_result"
    }
   ],
   "source": [
    "R"
   ]
  },
  {
   "cell_type": "code",
   "execution_count": 5,
   "metadata": {
    "collapsed": false
   },
   "outputs": [],
   "source": [
    "def incommon_cnt(i,j):\n",
    "    return(len(np.nonzero(R[i,:]*R[j,:])[0]))"
   ]
  },
  {
   "cell_type": "code",
   "execution_count": 6,
   "metadata": {
    "collapsed": false
   },
   "outputs": [],
   "source": [
    "#Next for every i and j between 1 to usr_cnt\n",
    "#i_j=np.transpose([np.tile(range(usr_cnt), usr_cnt), np.repeat(range(usr_cnt), usr_cnt)])"
   ]
  },
  {
   "cell_type": "code",
   "execution_count": 7,
   "metadata": {
    "collapsed": false
   },
   "outputs": [],
   "source": [
    "#L[i,j] indicates how many items user i and user j have in common and\n",
    "i_j=list(zip(np.repeat(range(usr_cnt), usr_cnt),np.tile(range(usr_cnt), usr_cnt)))\n",
    "L=np.zeros((usr_cnt,usr_cnt),dtype=np.int)\n",
    "for x in i_j:\n",
    "    L[x[0],x[1]]=incommon_cnt(x[0],x[1])"
   ]
  },
  {
   "cell_type": "code",
   "execution_count": 8,
   "metadata": {
    "collapsed": false
   },
   "outputs": [
    {
     "data": {
      "text/plain": [
       "array([[19,  4,  4, ...,  9, 12,  7],\n",
       "       [ 4, 16,  4, ...,  8, 10, 10],\n",
       "       [ 4,  4,  9, ...,  5,  6,  4],\n",
       "       ..., \n",
       "       [ 9,  8,  5, ..., 31, 18, 15],\n",
       "       [12, 10,  6, ..., 18, 32, 14],\n",
       "       [ 7, 10,  4, ..., 15, 14, 22]])"
      ]
     },
     "execution_count": 8,
     "metadata": {},
     "output_type": "execute_result"
    }
   ],
   "source": [
    "L"
   ]
  },
  {
   "cell_type": "code",
   "execution_count": 9,
   "metadata": {
    "collapsed": true
   },
   "outputs": [],
   "source": [
    "def corfnc(i,j,rnd=2):\n",
    "    return round(np.corrcoef(R[i,:],R[j,:])[1,0],rnd) if np.linalg.norm(R[i,:])* np.linalg.norm(R[j,:])>0 else 2"
   ]
  },
  {
   "cell_type": "code",
   "execution_count": 10,
   "metadata": {
    "collapsed": false
   },
   "outputs": [],
   "source": [
    "#cor[i,j] indicates the correlation between their ratings\n",
    "cor=np.zeros((usr_cnt,usr_cnt))\n",
    "for x in i_j:\n",
    "    cor[x[0],x[1]]=corfnc(x[0],x[1])"
   ]
  },
  {
   "cell_type": "code",
   "execution_count": 11,
   "metadata": {
    "collapsed": false
   },
   "outputs": [
    {
     "data": {
      "text/plain": [
       "array([[ 1.  , -0.06,  0.08, ..., -0.24, -0.17,  0.01],\n",
       "       [-0.06,  1.  , -0.01, ..., -0.05, -0.07,  0.08],\n",
       "       [ 0.08, -0.01,  1.  , ..., -0.03,  0.14,  0.06],\n",
       "       ..., \n",
       "       [-0.24, -0.05, -0.03, ...,  1.  , -0.29, -0.09],\n",
       "       [-0.17, -0.07,  0.14, ..., -0.29,  1.  ,  0.06],\n",
       "       [ 0.01,  0.08,  0.06, ..., -0.09,  0.06,  1.  ]])"
      ]
     },
     "execution_count": 11,
     "metadata": {},
     "output_type": "execute_result"
    }
   ],
   "source": [
    "cor"
   ]
  },
  {
   "cell_type": "code",
   "execution_count": 12,
   "metadata": {
    "collapsed": false
   },
   "outputs": [],
   "source": [
    "delcoor=np.where(np.array([cor[i,i] for i in range(cor.shape[0])])==2)[0]"
   ]
  },
  {
   "cell_type": "code",
   "execution_count": 13,
   "metadata": {
    "collapsed": false
   },
   "outputs": [],
   "source": [
    "for x in -np.sort(-delcoor):\n",
    "    cor=np.delete(np.delete(cor,x,1),x,0)"
   ]
  },
  {
   "cell_type": "code",
   "execution_count": 14,
   "metadata": {
    "collapsed": false
   },
   "outputs": [],
   "source": [
    "from collections import defaultdict as ddict\n",
    "d = ddict(list)\n",
    "for i in range(L.shape[0]):\n",
    "    for j in np.arange(i+1,L.shape[1]):\n",
    "        d[L[i,j]].append((i,j))"
   ]
  },
  {
   "cell_type": "code",
   "execution_count": 17,
   "metadata": {
    "collapsed": false
   },
   "outputs": [],
   "source": [
    "a= ddict(list)\n",
    "for k in d.keys():\n",
    "    a[k]=[round(cor[x[0],x[1]],2) for x in d[k]]"
   ]
  },
  {
   "cell_type": "code",
   "execution_count": 18,
   "metadata": {
    "collapsed": false
   },
   "outputs": [
    {
     "data": {
      "text/plain": [
       "dict_keys([0, 1, 2, 3, 4, 5, 6, 7, 8, 9, 10, 11, 12, 13, 14, 15, 16, 17, 18, 19, 20, 21, 22, 23, 24, 25, 26, 27, 28, 29, 32])"
      ]
     },
     "execution_count": 18,
     "metadata": {},
     "output_type": "execute_result"
    }
   ],
   "source": [
    "d.keys()"
   ]
  },
  {
   "cell_type": "code",
   "execution_count": 27,
   "metadata": {
    "collapsed": false,
    "scrolled": true
   },
   "outputs": [
    {
     "data": {
      "image/png": "[encoded data removed]",
      "text/plain": [
       "<matplotlib.figure.Figure at 0x1112017f0>"
      ]
     },
     "metadata": {},
     "output_type": "display_data"
    }
   ],
   "source": [
    "import matplotlib.pyplot as plt\n",
    "#plt.hist(a[24]+a[25]+a[26]+a[29]+a[32], bins='auto')\n",
    "plt.hist(a[0]+a[1]+a[2]+a[3]+a[4],bins='auto', alpha=0.5, label='x')\n",
    "plt.hist(a[22]+a[23]+a[24]+a[25]+a[26]+a[27]+a[28]+a[29]+a[32],bins='auto',alpha=0.5, label='y')\n",
    "plt.legend(loc='upper right')\n",
    "plt.show()\n"
   ]
  },
  {
   "cell_type": "code",
   "execution_count": null,
   "metadata": {
    "collapsed": true
   },
   "outputs": [],
   "source": []
  }
 ],
 "metadata": {
  "kernelspec": {
   "display_name": "Python [conda root]",
   "language": "python",
   "name": "conda-root-py"
  },
  "language_info": {
   "codemirror_mode": {
    "name": "ipython",
    "version": 3
   },
   "file_extension": ".py",
   "mimetype": "text/x-python",
   "name": "python",
   "nbconvert_exporter": "python",
   "pygments_lexer": "ipython3",
   "version": "3.5.2"
  }
 },
 "nbformat": 4,
 "nbformat_minor": 2
}
