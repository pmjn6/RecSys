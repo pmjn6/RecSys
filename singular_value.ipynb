{
 "cells": [
  {
   "cell_type": "code",
   "execution_count": 1,
   "metadata": {
    "collapsed": true
   },
   "outputs": [],
   "source": [
    "import numpy as np\n",
    "from PIL import Image"
   ]
  },
  {
   "cell_type": "markdown",
   "metadata": {},
   "source": [
    "Remembr eigenvalue/eigenvectors? A $square$ matrix $M_{n\\times n}$ is symmetric, then it has $n$ eigenvectors $v_1,\\cdots,v_n$. This means that, there are nonzero numbers $\\lambda_1,\\cdots,\\lambda_n$ such that \n",
    "\\begin{align}\n",
    "Mv_1=\\lambda_1v_1\\\\\n",
    "Mv_2=\\lambda_2v_2\\\\\n",
    "\\cdots\\cdots\\cdots\\cdots\\\\\n",
    "M_nv_n=\\lambda_nv_n\n",
    "\\end{align}\n",
    "This is important, because it allows us to predict that $M$ behaves like a dialation in those directions. "
   ]
  },
  {
   "cell_type": "markdown",
   "metadata": {},
   "source": [
    "## Example:\n",
    "Let $M=\\begin{bmatrix}2&5\\\\5&1\\end{bmatrix}$. Then $M$ is symmetrix and we know it must have 2 eigenvectors. Let me compute them."
   ]
  },
  {
   "cell_type": "code",
   "execution_count": 52,
   "metadata": {
    "collapsed": false
   },
   "outputs": [
    {
     "name": "stdout",
     "output_type": "stream",
     "text": [
      "eignvectors are:\n",
      " [[ 0.74 -0.67]\n",
      " [ 0.67  0.74]] ,\n",
      "and eigenvals are:\n",
      " [ 6.52493781 -3.52493781]\n"
     ]
    }
   ],
   "source": [
    "M=np.array([[2,5],[5,1]])\n",
    "val, vec =np.linalg.eig(M)\n",
    "print(\"eignvectors are:\\n\",np.round(vec,2),\",\")\n",
    "print(\"and eigenvals are:\\n\",val)"
   ]
  },
  {
   "cell_type": "code",
   "execution_count": 57,
   "metadata": {
    "collapsed": false
   },
   "outputs": [
    {
     "data": {
      "text/plain": [
       "(2, 2)"
      ]
     },
     "execution_count": 57,
     "metadata": {},
     "output_type": "execute_result"
    }
   ],
   "source": [
    "M.shape"
   ]
  },
  {
   "cell_type": "markdown",
   "metadata": {},
   "source": [
    "Next, let us check, if the relation $Mv_i=\\lambda_1v_i$ for $i=1,2$ holds:"
   ]
  },
  {
   "cell_type": "code",
   "execution_count": 3,
   "metadata": {
    "collapsed": false
   },
   "outputs": [
    {
     "name": "stdout",
     "output_type": "stream",
     "text": [
      "M*v_1==lambda_1 * v_1:    [ 4.83793167  4.37826799] = [ 4.83793167  4.37826799]\n",
      "M*v_2==lambda_2 * v_2:    [ 2.36525203 -2.61357407] = [ 2.36525203 -2.61357407]\n"
     ]
    }
   ],
   "source": [
    "print(\"M*v_1==lambda_1 * v_1:   \",np.dot(M,vec[:,0]),\"=\",val[0]*vec[:,0])\n",
    "print(\"M*v_2==lambda_2 * v_2:   \",np.dot(M,vec[:,1]),\"=\",val[1]*vec[:,1])"
   ]
  },
  {
   "cell_type": "markdown",
   "metadata": {},
   "source": [
    "Next, let's check how $M$ operates on different vectors. Here we consider $M$ as a map from $R^2$ to $R^2$\n",
    "$$M:R^2\\to R^2$$"
   ]
  },
  {
   "cell_type": "code",
   "execution_count": 4,
   "metadata": {
    "collapsed": true
   },
   "outputs": [],
   "source": [
    "import matplotlib\n",
    "import matplotlib.pyplot as plt\n",
    "%matplotlib inline "
   ]
  },
  {
   "cell_type": "code",
   "execution_count": 58,
   "metadata": {
    "collapsed": false
   },
   "outputs": [
    {
     "data": {
      "image/png": "[encoded data removed]",
      "text/plain": [
       "<matplotlib.figure.Figure at 0x110ee4b70>"
      ]
     },
     "metadata": {},
     "output_type": "display_data"
    }
   ],
   "source": [
    "fig = plt.figure()\n",
    "p1=vec[:,0]\n",
    "p2=vec[:,1]\n",
    "p3=np.array([-.1,-0.5])\n",
    "p4=np.array([1.4,0])\n",
    "P1=np.dot(M,p1)\n",
    "P2=np.dot(M,p2)\n",
    "P3=np.dot(M,p3)\n",
    "P4=np.dot(M,p4)\n",
    "##############\n",
    "soa = np.array([[0, 0, p1[0],p1[1]], \n",
    "                [0, 0, p2[0],p2[1]], \n",
    "                [0, 0, p3[0],p3[1]],\n",
    "                [0, 0, p4[0],p4[1]]])\n",
    "X1, Y1, U1, V1 = zip(*soa)\n",
    "ax1 = fig.add_subplot(121)\n",
    "ax1 = plt.gca()\n",
    "ax1.set_aspect('equal')\n",
    "ax1.quiver(X1, Y1, U1, V1, angles='xy', scale_units='xy', scale=1)\n",
    "ax1.set_xlim([-1, 1.5])\n",
    "ax1.set_ylim([-1, 1])\n",
    "plt.grid()\n",
    "plt.rc('grid', linestyle=\"-\", color='red')\n",
    "plt.annotate('$v_1$', \n",
    "             xy=(.5, .75),  \n",
    "             xycoords='data',\n",
    "             fontsize=20)\n",
    "plt.annotate('$v_2$', \n",
    "             xy=(-.5, .75),  \n",
    "             xycoords='data',\n",
    "             fontsize=20)\n",
    "ax2 = fig.add_subplot(122)\n",
    "##\n",
    "soa2 = np.array([[0, 0, P1[0],P1[1]], \n",
    "                 [0, 0, P2[0],P2[1]], \n",
    "                 [0, 0, P3[0],P3[1]],\n",
    "                 [0, 0, P4[0],P4[1]]])\n",
    "X2, Y2, U2, V2 = zip(*soa2)\n",
    "ax2 = plt.gca()\n",
    "ax2.set_aspect('equal')\n",
    "ax2.quiver(X2, Y2, U2, V2, angles='xy', scale_units='xy', scale=1)\n",
    "ax2.set_xlim([-6, 9])\n",
    "ax2.set_ylim([-4, 8])\n",
    "plt.grid()\n",
    "plt.rc('grid', linestyle=\"-\", color='red')\n",
    "plt.annotate('$M.v_1$', \n",
    "             xy=(3, 4),  \n",
    "             xycoords='data',\n",
    "             fontsize=20)\n",
    "plt.annotate('$M.v_2$', \n",
    "             xy=(2, -2.5),  \n",
    "             xycoords='data',\n",
    "             fontsize=20)\n",
    "plt.show()"
   ]
  },
  {
   "cell_type": "markdown",
   "metadata": {},
   "source": [
    "As we see, the eigenvectors, up to a scalar multiplication, does not change under $M$.\n",
    "* every symmetric $n\\times n$ matrix has exactly $n$ eigenvalues and $n$ distinct eigenvectors.\n",
    "* The eigenvalues of a symmetric matrix could be negative or positive\n",
    "* The eigenvlaues of a covariance matrix are all positive.\n",
    "\n",
    "This means that a covariance matrix has a more restrictive structure. "
   ]
  },
  {
   "cell_type": "markdown",
   "metadata": {},
   "source": [
    "### Not every matrix comes with a set of eigenvectors\n",
    "For example the shear tranformation $S=\\begin{bmatrix}1&1\\\\0&1\\end{bmatrix}$ has only one eigenvalue and eigenvector."
   ]
  },
  {
   "cell_type": "code",
   "execution_count": 59,
   "metadata": {
    "collapsed": false
   },
   "outputs": [
    {
     "name": "stdout",
     "output_type": "stream",
     "text": [
      "[ 1.  1.] [[  1.00000000e+00  -1.00000000e+00]\n",
      " [  0.00000000e+00   2.22044605e-16]]\n"
     ]
    }
   ],
   "source": [
    "S=[[1,1],[0,1]]\n",
    "w,v = np.linalg.eig(S)\n",
    "print(w,v)"
   ]
  },
  {
   "cell_type": "markdown",
   "metadata": {},
   "source": [
    "So we give up.\n",
    "Instead, for $M$, we will look for a pair of ORTHOGONAL VECTORS $v_1$ and $v_2$, whose image $Mv_1$ and $Mv_2$ are orthogonal. \n",
    "Let $u_1$ and $u_2$ be ${\\bf unit}$ vectors in the dirction of $Mv_1$ and $Mv_2$. Then there are positive numbers $\\sigma_1>0$ and $\\sigma_2>0$ such that\n",
    "\\begin{align*}\n",
    "Mv_1=\\sigma_1 u_1\\\\\n",
    "Mv_2=\\sigma_2 u_2\n",
    "\\end{align*}\n",
    "Before we continue, we mention that when we have $v_1$ $v_2$, we can find the image of any other matrices based on the image of $v_1$ and $v_2$. This is because, there are numbers $\\alpha$ and $\\beta$ such that \n",
    "$$x=\\alpha v_1+\\beta v_2$$\n",
    "$\\alpha$ and $\\beta$ are the coordinates of $x$ with respect to $v_1$ and $v_2$. We can easily calculate them as follows.\n",
    "$$\\alpha= v_1 \\cdot x,\\hspace{.5in}\\beta=v_2\\cdot x,$$\n",
    "where think of $v_1,v_2$ and $x$ and column vectors. If we let $V$ denote a matrix whose columns are $v_1$ and $v_2$\n",
    "$$V=\\begin{bmatrix}\n",
    "\\begin{matrix}\n",
    "|\\\\v_1\\\\|\n",
    "\\end{matrix}\n",
    "&\n",
    "\\begin{matrix}\n",
    "|\\\\v_2\\\\|\n",
    "\\end{matrix}\n",
    "\\end{bmatrix},\n",
    "$$\n",
    "then \n",
    "$$\\begin{bmatrix}\\alpha\\\\\\beta\\end{bmatrix}=V^Tx$$\n"
   ]
  },
  {
   "cell_type": "markdown",
   "metadata": {},
   "source": [
    "### Compute $Mx$ based on $U$,$\\sigma$'s and $V$\n",
    "Let $U$ denote the matrix whose columns are $u_1$ and $u2$, i.e,\n",
    "$$U=\n",
    "\\begin{bmatrix}\n",
    "\\begin{matrix}\n",
    "|\\\\u_1\\\\|\n",
    "\\end{matrix}\n",
    "&\n",
    "\\begin{matrix}\n",
    "|\\\\u_2\\\\|\n",
    "\\end{matrix}\n",
    "\\end{bmatrix},\n",
    "$$"
   ]
  },
  {
   "cell_type": "markdown",
   "metadata": {},
   "source": [
    "\\begin{align*}\n",
    "Mx=&M(\\alpha v_1+\\beta v_2)\\\\\n",
    "=&\\alpha M v_1+\\beta M v_2\\\\\n",
    "=& u_1\\sigma_1\\alpha+u_2\\sigma_2 \\beta\n",
    "\\end{align*}"
   ]
  },
  {
   "cell_type": "markdown",
   "metadata": {},
   "source": [
    "Next, assume that $u_1=\\begin{bmatrix}r_1\\\\r_2\\end{bmatrix}$ and $u_2=\\begin{bmatrix}s_1\\\\s_2\\end{bmatrix}$.\n",
    "Then \n",
    "\\begin{align*}\n",
    "Mx=&\\begin{bmatrix}r_1\\\\r_2\\end{bmatrix}\\sigma_1\\alpha+\\begin{bmatrix}s_1\\\\s_2\\end{bmatrix}\\sigma_2\\beta\\\\\n",
    "=&\\begin{bmatrix}r_1&s_2\\\\r_2&s_2\\end{bmatrix}\\times\\begin{bmatrix}\\sigma_1&0\\\\0&\\sigma_2\\end{bmatrix}\\times\\begin{bmatrix}\\alpha\\\\\\beta\\end{bmatrix}\\\\\n",
    "=&\\begin{bmatrix}r_1&s_2\\\\r_2&s_2\\end{bmatrix}\\times\\begin{bmatrix}\\sigma_1&0\\\\0&\\sigma_2\\end{bmatrix}\\times V^Tx\\\\\n",
    "=&U\\times S\\times V^T x\n",
    "\\end{align*}"
   ]
  },
  {
   "cell_type": "markdown",
   "metadata": {},
   "source": [
    "## The main problem left is \n",
    "How to compute $v_1$ and $v_2$. Consider the se\n",
    "$$\\{\\|M v\\|\\text{ where }\\|v\\|=1\\}$$\n",
    "Then $v_1$ and $v_2$ are the maximum and minimu of this set"
   ]
  },
  {
   "cell_type": "code",
   "execution_count": null,
   "metadata": {
    "collapsed": true
   },
   "outputs": [],
   "source": []
  },
  {
   "cell_type": "markdown",
   "metadata": {},
   "source": [
    "## Relation with PCA\n",
    "SVD states that $M=USV^T$. PCA finds a transform $V$ such that $new\\;data=X V$. Then we have \n",
    "$$US=XV$$"
   ]
  },
  {
   "cell_type": "code",
   "execution_count": 7,
   "metadata": {
    "collapsed": true
   },
   "outputs": [],
   "source": [
    "X=[1, 1, 1, 1, 1, 1, 1, 1, 1, 1, 1, 1, 1, 1, 1, 1, 1, 1, 1, 1, 1, 1, 1,\n",
    "       1, 1, 1, 1, 1, 1, 1, 1, 1, 1, 1, 1, 1, 1, 1, 1, 1, 1, 1, 1, 1, 1, 1,\n",
    "       1, 0, 0, 0, 0, 0, 0, 0, 0, 0, 0, 0, 1, 1, 1, 1, 0, 0, 0, 0, 0, 0, 0,\n",
    "       0, 0, 0, 0, 1, 1, 1, 1, 0, 0, 0, 0, 0, 0, 0, 0, 0, 0, 0, 1, 1, 1, 1,\n",
    "       0, 0, 0, 1, 1, 1, 1, 1, 0, 0, 0, 1, 1, 1, 1, 0, 0, 0, 1, 1, 1, 1, 1,\n",
    "       0, 0, 0, 1, 1, 1, 1, 0, 0, 0, 1, 1, 1, 1, 1, 0, 0, 0, 1, 1, 1, 1, 0,\n",
    "       0, 0, 1, 1, 1, 1, 1, 0, 0, 0, 1, 1, 1, 1, 0, 0, 0, 1, 1, 1, 1, 1, 0,\n",
    "       0, 0, 1, 1, 1, 1, 0, 0, 0, 1, 1, 1, 1, 1, 0, 0, 0, 1, 1, 1, 1, 0, 0,\n",
    "       0, 1, 1, 1, 1, 1, 0, 0, 0, 1, 1, 1, 1, 0, 0, 0, 1, 1, 1, 1, 1, 0, 0,\n",
    "       0, 1, 1, 1, 1, 0, 0, 0, 1, 1, 1, 1, 1, 0, 0, 0, 1, 1, 1, 1, 0, 0, 0,\n",
    "       0, 0, 0, 0, 0, 0, 0, 0, 1, 1, 1, 1, 0, 0, 0, 0, 0, 0, 0, 0, 0, 0, 0,\n",
    "       1, 1, 1, 1, 0, 0, 0, 0, 0, 0, 0, 0, 0, 0, 0, 1, 1, 1, 1, 1, 1, 1, 1,\n",
    "       1, 1, 1, 1, 1, 1, 1, 1, 1, 1, 1, 1, 1, 1, 1, 1, 1, 1, 1, 1, 1, 1, 1,\n",
    "       1, 1, 1, 1, 1, 1, 1, 1, 1, 1, 1, 1, 1, 1, 1, 1]"
   ]
  },
  {
   "cell_type": "code",
   "execution_count": 8,
   "metadata": {
    "collapsed": false
   },
   "outputs": [],
   "source": [
    "Y=[i*250 for i in X] #comprehensive list\n",
    "data=np.array(Y).reshape(21,15)"
   ]
  },
  {
   "cell_type": "code",
   "execution_count": 9,
   "metadata": {
    "collapsed": false
   },
   "outputs": [
    {
     "data": {
      "text/plain": [
       "<matplotlib.image.AxesImage at 0x1107cb5f8>"
      ]
     },
     "execution_count": 9,
     "metadata": {},
     "output_type": "execute_result"
    },
    {
     "data": {
      "image/png": "[encoded data removed]",
      "text/plain": [
       "<matplotlib.figure.Figure at 0x1106dfcc0>"
      ]
     },
     "metadata": {},
     "output_type": "display_data"
    }
   ],
   "source": [
    "plt.gray()\n",
    "plt.imshow(data)"
   ]
  },
  {
   "cell_type": "code",
   "execution_count": 17,
   "metadata": {
    "collapsed": false
   },
   "outputs": [],
   "source": [
    "P, D, Q = np.linalg.svd(np.array(X).reshape(21,15), full_matrices=False)"
   ]
  },
  {
   "cell_type": "code",
   "execution_count": 18,
   "metadata": {
    "collapsed": false
   },
   "outputs": [
    {
     "name": "stdout",
     "output_type": "stream",
     "text": [
      "15 [  1.27297277e+001   4.70051677e+000   3.29532617e+000   2.20560508e-016\n",
      "   2.00073067e-016   2.70815423e-017   3.00162465e-033   7.73919998e-034\n",
      "   1.31630820e-047   2.92968682e-050   2.81465295e-051   4.25054033e-066\n",
      "   1.97717908e-067   2.40348108e-083   4.81607738e-100]\n"
     ]
    }
   ],
   "source": [
    "print(len(D),D)"
   ]
  },
  {
   "cell_type": "markdown",
   "metadata": {},
   "source": [
    "The only 3 significat eigenvectors are $[\\sigma_1=12.8,\\sigma_2=4.7,\\sigma_3=3.3]$, therefore, with great accuracy\n",
    "$$M=12.8u_1v_1^t+4.7u_2v_2^t+3.3u_3v_3^t$$."
   ]
  },
  {
   "cell_type": "code",
   "execution_count": 49,
   "metadata": {
    "collapsed": false
   },
   "outputs": [],
   "source": [
    "#print(np.round(P,3))"
   ]
  },
  {
   "cell_type": "markdown",
   "metadata": {},
   "source": [
    "## Adding Noise"
   ]
  },
  {
   "cell_type": "code",
   "execution_count": 64,
   "metadata": {
    "collapsed": false
   },
   "outputs": [
    {
     "data": {
      "text/plain": [
       "<matplotlib.image.AxesImage at 0x1110db630>"
      ]
     },
     "execution_count": 64,
     "metadata": {},
     "output_type": "execute_result"
    },
    {
     "data": {
      "image/png": "[encoded data removed]",
      "text/plain": [
       "<matplotlib.figure.Figure at 0x110ee4b00>"
      ]
     },
     "metadata": {},
     "output_type": "display_data"
    }
   ],
   "source": [
    "X2=X+np.random.normal(loc=0.0, scale=.01, size=len(X))\n",
    "X3=[np.minimum(1,np.maximum(x,0)) for x in X2]\n",
    "Y=[i*250 for i in X3]\n",
    "data=np.array(Y).reshape(21,15)\n",
    "plt.gray()\n",
    "plt.imshow(data)"
   ]
  },
  {
   "cell_type": "code",
   "execution_count": 66,
   "metadata": {
    "collapsed": false
   },
   "outputs": [],
   "source": [
    "P1, D1, Q1 = np.linalg.svd(np.array(data).reshape(21,15), full_matrices=False)"
   ]
  },
  {
   "cell_type": "code",
   "execution_count": 67,
   "metadata": {
    "collapsed": false
   },
   "outputs": [
    {
     "data": {
      "text/plain": [
       "array([  3.17255654e+03,   1.16654453e+03,   8.21095989e+02,\n",
       "         9.62196591e+00,   8.18093553e+00,   7.82659537e+00,\n",
       "         6.79726716e+00,   6.50432594e+00,   5.21670975e+00,\n",
       "         4.72523515e+00,   4.15094903e+00,   3.17944099e+00,\n",
       "         2.74111020e+00,   2.44916375e+00,   1.98713160e+00])"
      ]
     },
     "execution_count": 67,
     "metadata": {},
     "output_type": "execute_result"
    }
   ],
   "source": [
    "D1"
   ]
  },
  {
   "cell_type": "code",
   "execution_count": null,
   "metadata": {
    "collapsed": true
   },
   "outputs": [],
   "source": []
  }
 ],
 "metadata": {
  "kernelspec": {
   "display_name": "Python [conda root]",
   "language": "python",
   "name": "conda-root-py"
  },
  "language_info": {
   "codemirror_mode": {
    "name": "ipython",
    "version": 3
   },
   "file_extension": ".py",
   "mimetype": "text/x-python",
   "name": "python",
   "nbconvert_exporter": "python",
   "pygments_lexer": "ipython3",
   "version": "3.5.2"
  }
 },
 "nbformat": 4,
 "nbformat_minor": 2
}
