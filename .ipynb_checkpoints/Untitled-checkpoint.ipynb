{
 "cells": [
  {
   "cell_type": "code",
   "execution_count": 1,
   "metadata": {
    "collapsed": true
   },
   "outputs": [],
   "source": [
    "import numpy as np"
   ]
  },
  {
   "cell_type": "code",
   "execution_count": 2,
   "metadata": {
    "collapsed": true
   },
   "outputs": [],
   "source": [
    "options=5\n",
    "items=5\n",
    "types=2\n",
    "ppl_cnt=10"
   ]
  },
  {
   "cell_type": "code",
   "execution_count": 3,
   "metadata": {
    "collapsed": false
   },
   "outputs": [],
   "source": [
    "par=np.random.randint(items, size=(options, types))"
   ]
  },
  {
   "cell_type": "code",
   "execution_count": 4,
   "metadata": {
    "collapsed": false
   },
   "outputs": [],
   "source": [
    "s = np.random.dirichlet(par[:,0], 1).transpose()\n",
    "for i in range(1,types):\n",
    "    s = np.column_stack((s,np.random.dirichlet(par[:,i], 1).transpose()))   "
   ]
  },
  {
   "cell_type": "code",
   "execution_count": 5,
   "metadata": {
    "collapsed": false
   },
   "outputs": [],
   "source": [
    "R=np.random.choice(range(1,6),items, p=s[:,0],replace=True)\n",
    "for i in range(ppl_cnt):\n",
    "    j=np.random.choice(types,1)\n",
    "    R=np.column_stack((R,np.random.choice(range(1,6),items, p=s[:,j[0]],replace=True)))\n",
    "R=R.T"
   ]
  },
  {
   "cell_type": "code",
   "execution_count": 6,
   "metadata": {
    "collapsed": false
   },
   "outputs": [],
   "source": [
    "S=R"
   ]
  },
  {
   "cell_type": "code",
   "execution_count": 7,
   "metadata": {
    "collapsed": true
   },
   "outputs": [],
   "source": [
    "sparsity=.75\n",
    "index = np.random.choice(ppl_cnt*items,int(ppl_cnt*items*sparsity),replace=False)"
   ]
  },
  {
   "cell_type": "code",
   "execution_count": 13,
   "metadata": {
    "collapsed": false
   },
   "outputs": [],
   "source": [
    "l=np.zeros(len(index))\n",
    "for x in index:\n",
    "    i=x//items;j=x%items\n",
    "    S[i,j]=0"
   ]
  },
  {
   "cell_type": "code",
   "execution_count": 14,
   "metadata": {
    "collapsed": false
   },
   "outputs": [
    {
     "data": {
      "text/plain": [
       "array([[3, 0, 4, 0, 4],\n",
       "       [0, 0, 0, 0, 4],\n",
       "       [0, 4, 0, 4, 0],\n",
       "       [0, 0, 0, 3, 0],\n",
       "       [4, 3, 0, 0, 0],\n",
       "       [0, 0, 0, 0, 1],\n",
       "       [1, 0, 0, 0, 0],\n",
       "       [0, 0, 4, 0, 0],\n",
       "       [0, 0, 0, 4, 0],\n",
       "       [0, 0, 0, 0, 0],\n",
       "       [4, 4, 4, 4, 3]])"
      ]
     },
     "execution_count": 14,
     "metadata": {},
     "output_type": "execute_result"
    }
   ],
   "source": [
    "S"
   ]
  },
  {
   "cell_type": "code",
   "execution_count": 56,
   "metadata": {
    "collapsed": false
   },
   "outputs": [],
   "source": [
    "mu=np.sum(S)/np.count_nonzero(S)\n",
    "def fnctn(u,i):\n",
    "    ru=np.mean(S[u,np.nonzero(S[u,:])]-mu)\n",
    "    ci=np.mean(S[np.nonzero(S[:,i]),i]-mu-ru)\n",
    "    return(mu-ru-ci)"
   ]
  },
  {
   "cell_type": "code",
   "execution_count": 57,
   "metadata": {
    "collapsed": false
   },
   "outputs": [
    {
     "data": {
      "text/plain": [
       "3.2222222222222228"
      ]
     },
     "execution_count": 57,
     "metadata": {},
     "output_type": "execute_result"
    }
   ],
   "source": [
    "fnctn(0,1)"
   ]
  },
  {
   "cell_type": "markdown",
   "metadata": {},
   "source": [
    "where $S[i,j]=0$ means that the user $i$ has not rated the item $j$. To predict $S[i,j]$, we proceed with an ANOVA style analysis, i.e we consider a mean effect, the effect of being in row $i$ and the effect of being in column $j$. Mathematically we can write,\n",
    "$$b_{u,i} = \\mu + {\\bf R}_u + {\\bf C}_i,$$\n",
    "where \n",
    "* $\\mu$ is the mean rate $$\\mu= \\frac{\\text{np.sum}(S)}{\\text{np.count_nonzero}(S)}.$$\n",
    "* ${\\bf R}_u$ is mean effect of being in row $u$, which is $mean(S[u,]-\\mu)$, for non-zero elements. To compute ${\\bf R}_u$, we first find the index of non-zero elements in $S[u,]$ as follows:\n",
    "$$\\text{nz_ind}=\\text{np.nonzero}(S[u,:]).$$\n",
    "Then the non-zero elements are \n",
    "$$\\text{nz_el}=S[u,\\text{nz_ind}].$$\n",
    "Then the mean effect of the row $u$ is \n",
    "$${\\bf R}_u=\\text{np.mean}(\\text{nz_el}-\\mu).$$\n",
    "* ${\\bf C}_i$ is the effect of bein in column $i$, after the previous 2 effects removed\n",
    "    $${\\bf C}_i=np.mean(S[np.nonzero(S[:,i]),i]-\\mu-{\\bf R}_u)$$"
   ]
  },
  {
   "cell_type": "markdown",
   "metadata": {},
   "source": [
    "# Content Based Recommender "
   ]
  },
  {
   "cell_type": "code",
   "execution_count": 1,
   "metadata": {
    "collapsed": true
   },
   "outputs": [],
   "source": [
    "import pandas as pd"
   ]
  },
  {
   "cell_type": "code",
   "execution_count": 2,
   "metadata": {
    "collapsed": false
   },
   "outputs": [
    {
     "data": {
      "text/html": [
       "<div>\n",
       "<table border=\"1\" class=\"dataframe\">\n",
       "  <thead>\n",
       "    <tr style=\"text-align: right;\">\n",
       "      <th></th>\n",
       "      <th>Alice</th>\n",
       "      <th>Bob</th>\n",
       "      <th>Carol</th>\n",
       "      <th>Dave</th>\n",
       "      <th>Movie</th>\n",
       "    </tr>\n",
       "  </thead>\n",
       "  <tbody>\n",
       "    <tr>\n",
       "      <th>0</th>\n",
       "      <td>5.0</td>\n",
       "      <td>5.0</td>\n",
       "      <td>0.0</td>\n",
       "      <td>0.0</td>\n",
       "      <td>Love at least</td>\n",
       "    </tr>\n",
       "    <tr>\n",
       "      <th>1</th>\n",
       "      <td>5.0</td>\n",
       "      <td>NaN</td>\n",
       "      <td>NaN</td>\n",
       "      <td>0.0</td>\n",
       "      <td>Romance forever</td>\n",
       "    </tr>\n",
       "    <tr>\n",
       "      <th>2</th>\n",
       "      <td>NaN</td>\n",
       "      <td>4.0</td>\n",
       "      <td>0.0</td>\n",
       "      <td>NaN</td>\n",
       "      <td>Cute puppies of love</td>\n",
       "    </tr>\n",
       "    <tr>\n",
       "      <th>3</th>\n",
       "      <td>0.0</td>\n",
       "      <td>0.0</td>\n",
       "      <td>5.0</td>\n",
       "      <td>4.0</td>\n",
       "      <td>Nonstope car chases</td>\n",
       "    </tr>\n",
       "    <tr>\n",
       "      <th>4</th>\n",
       "      <td>0.0</td>\n",
       "      <td>0.0</td>\n",
       "      <td>5.0</td>\n",
       "      <td>NaN</td>\n",
       "      <td>Swords vs. karate</td>\n",
       "    </tr>\n",
       "  </tbody>\n",
       "</table>\n",
       "</div>"
      ],
      "text/plain": [
       "   Alice  Bob  Carol  Dave                 Movie\n",
       "0    5.0  5.0    0.0   0.0         Love at least\n",
       "1    5.0  NaN    NaN   0.0       Romance forever\n",
       "2    NaN  4.0    0.0   NaN  Cute puppies of love\n",
       "3    0.0  0.0    5.0   4.0   Nonstope car chases\n",
       "4    0.0  0.0    5.0   NaN     Swords vs. karate"
      ]
     },
     "execution_count": 2,
     "metadata": {},
     "output_type": "execute_result"
    }
   ],
   "source": [
    "df = pd.DataFrame({'Movie':[\"Love at least\",\"Romance forever\",\"Cute puppies of love\",\n",
    "                            \"Nonstope car chases\",\"Swords vs. karate\"], \n",
    "                   \"Alice\":[5,5,None,0,0],\"Bob\":[5,None,4,0,0],\"Carol\":[0,None,0,5,5],\"Dave\":[0,0,None,4,None]})\n",
    "df"
   ]
  },
  {
   "cell_type": "markdown",
   "metadata": {},
   "source": [
    "Next, assume each movie has 2 features: Romance and Action. We add these two features to the table."
   ]
  },
  {
   "cell_type": "code",
   "execution_count": 12,
   "metadata": {
    "collapsed": false
   },
   "outputs": [
    {
     "data": {
      "text/html": [
       "<div>\n",
       "<table border=\"1\" class=\"dataframe\">\n",
       "  <thead>\n",
       "    <tr style=\"text-align: right;\">\n",
       "      <th></th>\n",
       "      <th>Action</th>\n",
       "      <th>Alice</th>\n",
       "      <th>Bob</th>\n",
       "      <th>Carol</th>\n",
       "      <th>Dave</th>\n",
       "      <th>Movie</th>\n",
       "      <th>Romance</th>\n",
       "    </tr>\n",
       "  </thead>\n",
       "  <tbody>\n",
       "    <tr>\n",
       "      <th>0</th>\n",
       "      <td>0.00</td>\n",
       "      <td>5.0</td>\n",
       "      <td>5.0</td>\n",
       "      <td>0.0</td>\n",
       "      <td>0.0</td>\n",
       "      <td>Love at least</td>\n",
       "      <td>0.90</td>\n",
       "    </tr>\n",
       "    <tr>\n",
       "      <th>1</th>\n",
       "      <td>0.01</td>\n",
       "      <td>5.0</td>\n",
       "      <td>NaN</td>\n",
       "      <td>NaN</td>\n",
       "      <td>0.0</td>\n",
       "      <td>Romance forever</td>\n",
       "      <td>1.00</td>\n",
       "    </tr>\n",
       "    <tr>\n",
       "      <th>2</th>\n",
       "      <td>0.00</td>\n",
       "      <td>NaN</td>\n",
       "      <td>4.0</td>\n",
       "      <td>0.0</td>\n",
       "      <td>NaN</td>\n",
       "      <td>Cute puppies of love</td>\n",
       "      <td>0.99</td>\n",
       "    </tr>\n",
       "    <tr>\n",
       "      <th>3</th>\n",
       "      <td>1.00</td>\n",
       "      <td>0.0</td>\n",
       "      <td>0.0</td>\n",
       "      <td>5.0</td>\n",
       "      <td>4.0</td>\n",
       "      <td>Nonstope car chases</td>\n",
       "      <td>0.10</td>\n",
       "    </tr>\n",
       "    <tr>\n",
       "      <th>4</th>\n",
       "      <td>0.00</td>\n",
       "      <td>0.0</td>\n",
       "      <td>0.0</td>\n",
       "      <td>5.0</td>\n",
       "      <td>NaN</td>\n",
       "      <td>Swords vs. karate</td>\n",
       "      <td>0.00</td>\n",
       "    </tr>\n",
       "  </tbody>\n",
       "</table>\n",
       "</div>"
      ],
      "text/plain": [
       "   Action  Alice  Bob  Carol  Dave                 Movie  Romance\n",
       "0    0.00    5.0  5.0    0.0   0.0         Love at least     0.90\n",
       "1    0.01    5.0  NaN    NaN   0.0       Romance forever     1.00\n",
       "2    0.00    NaN  4.0    0.0   NaN  Cute puppies of love     0.99\n",
       "3    1.00    0.0  0.0    5.0   4.0   Nonstope car chases     0.10\n",
       "4    0.00    0.0  0.0    5.0   NaN     Swords vs. karate     0.00"
      ]
     },
     "execution_count": 12,
     "metadata": {},
     "output_type": "execute_result"
    }
   ],
   "source": [
    "df = pd.DataFrame({'Movie':[\"Love at least\",\"Romance forever\",\"Cute puppies of love\",\n",
    "                            \"Nonstope car chases\",\"Swords vs. karate\"], \n",
    "                   \"Alice\":[5,5,None,0,0],\"Bob\":[5,None,4,0,0],\"Carol\":[0,None,0,5,5],\"Dave\":[0,0,None,4,None],\n",
    "                  \"Romance\":[.9,1,.99,.1,0], \"Action\":[0,.01,0,1,.0]})\n",
    "df"
   ]
  },
  {
   "cell_type": "code",
   "execution_count": 15,
   "metadata": {
    "collapsed": false
   },
   "outputs": [
    {
     "name": "stdout",
     "output_type": "stream",
     "text": [
      "['Action', 'Alice', 'Bob', 'Carol', 'Dave', 'Movie', 'Romance']\n"
     ]
    },
    {
     "ename": "TypeError",
     "evalue": "can only concatenate list (not \"str\") to list",
     "output_type": "error",
     "traceback": [
      "\u001b[0;31m---------------------------------------------------------------------------\u001b[0m",
      "\u001b[0;31mTypeError\u001b[0m                                 Traceback (most recent call last)",
      "\u001b[0;32m<ipython-input-15-49b0bfc4a3a9>\u001b[0m in \u001b[0;36m<module>\u001b[0;34m()\u001b[0m\n\u001b[1;32m      1\u001b[0m \u001b[0mcols\u001b[0m \u001b[0;34m=\u001b[0m \u001b[0mdf\u001b[0m\u001b[0;34m.\u001b[0m\u001b[0mcolumns\u001b[0m\u001b[0;34m.\u001b[0m\u001b[0mtolist\u001b[0m\u001b[0;34m(\u001b[0m\u001b[0;34m)\u001b[0m\u001b[0;34m\u001b[0m\u001b[0m\n\u001b[1;32m      2\u001b[0m \u001b[0mprint\u001b[0m\u001b[0;34m(\u001b[0m\u001b[0mcols\u001b[0m\u001b[0;34m)\u001b[0m\u001b[0;34m\u001b[0m\u001b[0m\n\u001b[0;32m----> 3\u001b[0;31m \u001b[0mc\u001b[0m\u001b[0;34m=\u001b[0m\u001b[0mcols\u001b[0m\u001b[0;34m[\u001b[0m\u001b[0;36m1\u001b[0m\u001b[0;34m:\u001b[0m\u001b[0;36m6\u001b[0m\u001b[0;34m]\u001b[0m\u001b[0;34m+\u001b[0m\u001b[0mcols\u001b[0m\u001b[0;34m[\u001b[0m\u001b[0;36m0\u001b[0m\u001b[0;34m]\u001b[0m\u001b[0;34m\u001b[0m\u001b[0m\n\u001b[0m\u001b[1;32m      4\u001b[0m \u001b[0mprint\u001b[0m\u001b[0;34m(\u001b[0m\u001b[0mc\u001b[0m\u001b[0;34m)\u001b[0m\u001b[0;34m\u001b[0m\u001b[0m\n",
      "\u001b[0;31mTypeError\u001b[0m: can only concatenate list (not \"str\") to list"
     ]
    }
   ],
   "source": [
    "cols = df.columns.tolist()\n",
    "print(cols)\n",
    "#c=cols[1:6]+cols[0]\n",
    "#print(c)"
   ]
  },
  {
   "cell_type": "code",
   "execution_count": null,
   "metadata": {
    "collapsed": false
   },
   "outputs": [],
   "source": []
  },
  {
   "cell_type": "code",
   "execution_count": 10,
   "metadata": {
    "collapsed": false
   },
   "outputs": [
    {
     "data": {
      "text/html": [
       "<div>\n",
       "<table border=\"1\" class=\"dataframe\">\n",
       "  <thead>\n",
       "    <tr style=\"text-align: right;\">\n",
       "      <th></th>\n",
       "      <th>Cute puppies of love</th>\n",
       "      <th>Love at least</th>\n",
       "      <th>Nonstope car chases</th>\n",
       "      <th>Rater</th>\n",
       "      <th>Romance forever</th>\n",
       "      <th>Swords vs. karate</th>\n",
       "    </tr>\n",
       "  </thead>\n",
       "  <tbody>\n",
       "    <tr>\n",
       "      <th>0</th>\n",
       "      <td>NaN</td>\n",
       "      <td>5</td>\n",
       "      <td>0</td>\n",
       "      <td>Alice</td>\n",
       "      <td>5.0</td>\n",
       "      <td>0.0</td>\n",
       "    </tr>\n",
       "    <tr>\n",
       "      <th>1</th>\n",
       "      <td>4.0</td>\n",
       "      <td>5</td>\n",
       "      <td>0</td>\n",
       "      <td>Bob</td>\n",
       "      <td>NaN</td>\n",
       "      <td>0.0</td>\n",
       "    </tr>\n",
       "    <tr>\n",
       "      <th>2</th>\n",
       "      <td>0.0</td>\n",
       "      <td>0</td>\n",
       "      <td>5</td>\n",
       "      <td>Carol</td>\n",
       "      <td>NaN</td>\n",
       "      <td>5.0</td>\n",
       "    </tr>\n",
       "    <tr>\n",
       "      <th>3</th>\n",
       "      <td>NaN</td>\n",
       "      <td>0</td>\n",
       "      <td>4</td>\n",
       "      <td>Dave</td>\n",
       "      <td>0.0</td>\n",
       "      <td>NaN</td>\n",
       "    </tr>\n",
       "  </tbody>\n",
       "</table>\n",
       "</div>"
      ],
      "text/plain": [
       "   Cute puppies of love  Love at least  Nonstope car chases  Rater  \\\n",
       "0                   NaN              5                    0  Alice   \n",
       "1                   4.0              5                    0    Bob   \n",
       "2                   0.0              0                    5  Carol   \n",
       "3                   NaN              0                    4   Dave   \n",
       "\n",
       "   Romance forever  Swords vs. karate  \n",
       "0              5.0                0.0  \n",
       "1              NaN                0.0  \n",
       "2              NaN                5.0  \n",
       "3              0.0                NaN  "
      ]
     },
     "execution_count": 10,
     "metadata": {},
     "output_type": "execute_result"
    }
   ],
   "source": [
    "df = pd.DataFrame({\"Rater\":[\"Alice\",\"Bob\",\"Carol\",\"Dave\"],\n",
    "                   \"Love at least\":[5,5,0,0],\n",
    "                   \"Romance forever\":[5,None,None,0],\n",
    "                   \"Cute puppies of love\":[None,4,0,None],\n",
    "                   \"Nonstope car chases\":[0,0,5,4],\n",
    "                   \"Swords vs. karate\":[0,0,5,None]})\n",
    "df"
   ]
  }
 ],
 "metadata": {
  "kernelspec": {
   "display_name": "Python [conda root]",
   "language": "python",
   "name": "conda-root-py"
  },
  "language_info": {
   "codemirror_mode": {
    "name": "ipython",
    "version": 3
   },
   "file_extension": ".py",
   "mimetype": "text/x-python",
   "name": "python",
   "nbconvert_exporter": "python",
   "pygments_lexer": "ipython3",
   "version": "3.5.2"
  }
 },
 "nbformat": 4,
 "nbformat_minor": 2
}
